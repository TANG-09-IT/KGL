{
 "cells": [
  {
   "metadata": {},
   "cell_type": "code",
   "outputs": [],
   "execution_count": null,
   "source": [
    "from PIL import Image\n",
    "\n",
    "# 初始化result变量\n",
    "result = None\n",
    "\n",
    "# 计算器逻辑（后续代码不变）\n",
    "num1 = float(input(\"请输入第一个数：\"))\n",
    "op = input(\"请输入运算符(+、-、*、/)：\")\n",
    "num2 = float(input(\"请输入第二个数：\"))\n",
    "\n",
    "if op == '+':\n",
    "    result = num1 + num2\n",
    "elif op == '-':\n",
    "    result = num1 - num2\n",
    "elif op == '*':\n",
    "    result = num1 * num2\n",
    "elif op == '/':\n",
    "    if num2 != 0:\n",
    "        result = num1 / num2\n",
    "    else:\n",
    "        print(\"除数不能为0\")\n",
    "else:\n",
    "    print(\"输入的符号无效\")\n",
    "\n",
    "if result is not None:\n",
    "    print(f\"结果：{result}\")\n",
    "\n",
    "# 图片处理逻辑\n",
    "img = Image.open(r'C:\\Users\\唐俊杰\\Desktop\\pcoek.jpg')\n",
    "img.show()"
   ],
   "id": "2c873a0811cdd873"
  }
 ],
 "metadata": {},
 "nbformat": 4,
 "nbformat_minor": 5
}
